{
 "cells": [
  {
   "cell_type": "markdown",
   "metadata": {},
   "source": [
    "# U.S. Medical Insurance Costs"
   ]
  },
  {
   "cell_type": "markdown",
   "metadata": {},
   "source": [
    "This project will use Python to manipulate a set of U.S medical insurance data from 2018. The goal is to organize and analyze **insurance.csv** to learn more about the patient information provided."
   ]
  },
  {
   "cell_type": "code",
   "execution_count": 12,
   "metadata": {},
   "outputs": [],
   "source": [
    "import csv"
   ]
  },
  {
   "cell_type": "markdown",
   "metadata": {},
   "source": [
    "First, the necessary libraries are imported, which in this case is just <code>csv</code>."
   ]
  },
  {
   "cell_type": "markdown",
   "metadata": {},
   "source": [
    "After inspecting **insurance.csv**, we find that the following pieces of information are given for each patient:\n",
    "- Age\n",
    "- Sex\n",
    "- BMI\n",
    "- Number of Children\n",
    "- Smoker Status\n",
    "- Region\n",
    "- Charges\n",
    "\n",
    "Empty lists are created for each of these, which will be populated by the corresponding values from the **.csv** file."
   ]
  },
  {
   "cell_type": "code",
   "execution_count": 13,
   "metadata": {},
   "outputs": [],
   "source": [
    "ages = []\n",
    "sexes = []\n",
    "bmis = []\n",
    "num_children = []\n",
    "smoker_stauses = []\n",
    "regions = []\n",
    "insurance_costs = []"
   ]
  },
  {
   "cell_type": "markdown",
   "metadata": {},
   "source": [
    "Next, a function will be created to import **insurance.csv** to the python script and help in populating the above lists."
   ]
  },
  {
   "cell_type": "code",
   "execution_count": 14,
   "metadata": {},
   "outputs": [],
   "source": [
    "def load_data(lst, csv_file, column_name): \n",
    "    with open(csv_file) as csv_info:\n",
    "        csv_dict = csv.DictReader(csv_info)\n",
    "        for row in csv_dict:\n",
    "            lst.append(row[column_name])"
   ]
  },
  {
   "cell_type": "markdown",
   "metadata": {},
   "source": [
    "The above function allows us to minimize the repetition of opening the **.csv** file and adding the values from each column to each list. With this function, we can simply call it for each list and column we need. See this below."
   ]
  },
  {
   "cell_type": "code",
   "execution_count": 15,
   "metadata": {},
   "outputs": [],
   "source": [
    "load_data(ages, 'insurance.csv', 'age')\n",
    "load_data(sexes, 'insurance.csv', 'sex')\n",
    "load_data(bmis, 'insurance.csv', 'bmi')\n",
    "load_data(num_children, 'insurance.csv', 'children')\n",
    "load_data(smoker_stauses, 'insurance.csv', 'smoker')\n",
    "load_data(regions, 'insurance.csv', 'region')\n",
    "load_data(insurance_costs, 'insurance.csv', 'charges')"
   ]
  },
  {
   "cell_type": "markdown",
   "metadata": {},
   "source": [
    "Now that our data is organized into lists, we can begin our analysis. There are many aspects we could look into, but we have chosen the following:\n",
    "- find whether male or female insurance is more expensive, on average.\n",
    "- find average costs per region.\n",
    "- find the average cost for patients with a healthy BMI.\n",
    "- find how much money is saved on average when a patient is not a smoker."
   ]
  },
  {
   "cell_type": "markdown",
   "metadata": {},
   "source": [
    "To find these answers, we will create a class called <code>PatientsInfo</code> that will contain the following methods:\n",
    "- <code>analyze_sexes_costs()</code>\n",
    "- <code>analyze_regions()</code>\n",
    "- <code>analyze_healthy_bmi()</code>\n",
    "- <code>analyze_smoking()</code>\n",
    "\n",
    "We will also create a <code>make_dictionary()</code> method to put all the data into a python dictionary for possible future use."
   ]
  },
  {
   "cell_type": "code",
   "execution_count": 16,
   "metadata": {},
   "outputs": [],
   "source": [
    "class PatientsInfo:\n",
    "    def __init__(self, ages, sexes, bmis, nums_children, smoker_statuses, regions, costs):\n",
    "        self.ages = ages\n",
    "        self.sexes = sexes\n",
    "        self.bmis = bmis\n",
    "        self.nums_children = nums_children\n",
    "        self.smoker_statuses = smoker_statuses\n",
    "        self.regions = regions\n",
    "        self.costs = costs\n",
    "    \n",
    "    def analyze_sexes_costs(self):\n",
    "        # separating male and female insurance costs into new lists\n",
    "        male_costs = []\n",
    "        female_costs = []\n",
    "        sex_cost = list(zip(self.sexes, self.costs))\n",
    "        for sex, cost in sex_cost:\n",
    "            if sex == \"male\":\n",
    "                male_costs.append(float(cost))\n",
    "            else:\n",
    "                female_costs.append(float(cost))\n",
    "        # finding average cost for each sex rounded to two decimal places, and the difference between them\n",
    "        male_average_cost = round(sum(male_costs) / len(male_costs), 2)\n",
    "        female_average_cost = round(sum(female_costs) / len(female_costs), 2)\n",
    "        cost_difference = abs(male_average_cost - female_average_cost)\n",
    "        # returning a string with our results\n",
    "        if male_average_cost < female_average_cost:\n",
    "            return \"The average cost for male insurance is {}, and the average cost for female insurance is {}, so male insurance is cheaper by {} on average.\".format(male_average_cost, female_average_cost, cost_difference)\n",
    "        else:\n",
    "            return \"The average cost for male insurance is ${}, and the average cost for female insurance is {}, so female insurance is cheaper by ${} on average.\".format(male_average_cost, female_average_cost, cost_difference)\n",
    "\n",
    "    def analyze_regions(self):\n",
    "        # separating costs from each region into their own respective lists\n",
    "        ne_costs = []\n",
    "        se_costs = []\n",
    "        sw_costs = []\n",
    "        nw_costs = []\n",
    "        region_cost = list(zip(self.regions, self.costs))\n",
    "        for region, cost in region_cost:\n",
    "            if region == 'northeast':\n",
    "                ne_costs.append(float(cost))\n",
    "            elif region == 'southeast':\n",
    "                se_costs.append(float(cost))\n",
    "            elif region == 'southwest':\n",
    "                sw_costs.append(float(cost))\n",
    "            elif region == 'northwest':\n",
    "                nw_costs.append(float(cost))\n",
    "        # finding average cost for each list, rounded to two decimal places\n",
    "        ne_avg_cost = round(sum(ne_costs)/len(ne_costs), 2)\n",
    "        se_avg_cost = round(sum(se_costs)/len(se_costs), 2)\n",
    "        sw_avg_cost = round(sum(sw_costs)/len(sw_costs), 2)\n",
    "        nw_avg_cost = round(sum(nw_costs)/len(nw_costs), 2)\n",
    "        # printing a string with our results\n",
    "        print(\"The average insurance cost per region of the U.S. is as follows:\\nNortheast: ${} \\nSoutheast: ${} \\nSouthwest: ${} \\nNorthwest: ${}\".format(ne_avg_cost, se_avg_cost, sw_avg_cost, nw_avg_cost))\n",
    "\n",
    "    def analyze_healthy_bmi(self):\n",
    "        # according to the CDC, a healthy adult BMI is between 18.5 and 24.9 for both male and female\n",
    "        # using a different approach than above to obtain averages\n",
    "        # creating empty sum and count values for healthy and poor BMI patients' insurance costs\n",
    "        healthy_bmi_cost_sum = 0\n",
    "        healthy_count = 0\n",
    "        poor_bmi_cost_sum = 0\n",
    "        poor_count = 0\n",
    "        # adding insurance cost to the correct sum depending on BMI, and incrementing the count values\n",
    "        for bmi, cost in list(zip(bmis, insurance_costs)):\n",
    "            if float(bmi) >= 18.5 and float(bmi) <= 24.9:\n",
    "                healthy_bmi_cost_sum += float(cost)\n",
    "                healthy_count += 1\n",
    "            else:\n",
    "                poor_bmi_cost_sum += float(cost)\n",
    "                poor_count += 1\n",
    "        # finding averages by dividing the cost sums by the count values, and rounding to two decimal places\n",
    "        healthy_bmi_avg_cost = round(healthy_bmi_cost_sum/healthy_count, 2)\n",
    "        poor_bmi_avg_cost = round(poor_bmi_cost_sum/poor_count, 2)\n",
    "        avg_diff = poor_bmi_avg_cost - healthy_bmi_avg_cost\n",
    "        # printing a string with our results\n",
    "        print(\"According to the CDC, a healthy adult BMI is between 18.5 and 24.9 for both male and female. \\nThe average insurance cost for those within a healthy BMI range is ${}, compared to ${} for those outside of a healthy range. That\\'s a difference of ${}!\".format(healthy_bmi_avg_cost, poor_bmi_avg_cost, avg_diff))\n",
    "\n",
    "    def analyze_smoking(self):\n",
    "        # finding smoker and non-smoker insurance cost sums via the approach used for analyze_healthy_bmi()\n",
    "        smoker_cost_sum = 0\n",
    "        smoker_count = 0\n",
    "        nonsmoker_cost_sum = 0\n",
    "        nonsmoker_count = 0\n",
    "        for smoker, cost in list(zip(smoker_stauses, insurance_costs)):\n",
    "            if smoker == 'yes':\n",
    "                smoker_cost_sum += float(cost)\n",
    "                smoker_count += 1\n",
    "            else:\n",
    "                nonsmoker_cost_sum += float(cost)\n",
    "                nonsmoker_count += 1\n",
    "        # finding averages by dividing the sums by the count values, rounding to two decimal places\n",
    "        smoker_cost_avg = round(smoker_cost_sum/smoker_count, 2)\n",
    "        nonsmoker_cost_avg = round(nonsmoker_cost_sum/nonsmoker_count, 2)\n",
    "        avg_diff = smoker_cost_avg - nonsmoker_cost_avg\n",
    "        # printing a string with our results\n",
    "        print(\"On average, smokers pay ${} more for their insurance than non-smokers.\".format(avg_diff))\n",
    "\n",
    "    def make_dictionary(self):\n",
    "        self.dictionary = {}\n",
    "        self.dictionary[\"ages\"] = [int(age) for age in self.ages]\n",
    "        self.dictionary[\"sexes\"] = self.sexes\n",
    "        self.dictionary[\"bmis\"] = self.bmis\n",
    "        self.dictionary[\"num_children\"] = self.nums_children\n",
    "        self.dictionary[\"smoker_stauses\"] = self.smoker_statuses\n",
    "        self.dictionary[\"regions\"] = self.regions\n",
    "        self.dictionary[\"insurance_costs\"] = self.costs\n",
    "        return self.dictionary"
   ]
  },
  {
   "cell_type": "markdown",
   "metadata": {},
   "source": [
    "Now we need to create an instance of the <code>PatientsInfo</code> class, and use each method to see the results of our analysis."
   ]
  },
  {
   "cell_type": "code",
   "execution_count": 17,
   "metadata": {},
   "outputs": [],
   "source": [
    "patient_info = PatientsInfo(ages, sexes, bmis, num_children, smoker_stauses, regions, insurance_costs)"
   ]
  },
  {
   "cell_type": "code",
   "execution_count": 18,
   "metadata": {},
   "outputs": [
    {
     "data": {
      "text/plain": [
       "'The average cost for male insurance is $13956.75, and the average cost for female insurance is 12569.58, so female insurance is cheaper by $1387.17 on average.'"
      ]
     },
     "execution_count": 18,
     "metadata": {},
     "output_type": "execute_result"
    }
   ],
   "source": [
    "patient_info.analyze_sexes_costs()"
   ]
  },
  {
   "cell_type": "code",
   "execution_count": 19,
   "metadata": {},
   "outputs": [
    {
     "name": "stdout",
     "output_type": "stream",
     "text": [
      "The average insurance cost per region of the U.S. is as follows:\n",
      "Northeast: $13406.38 \n",
      "Southeast: $14735.41 \n",
      "Southwest: $12346.94 \n",
      "Northwest: $12417.58\n"
     ]
    }
   ],
   "source": [
    "patient_info.analyze_regions()"
   ]
  },
  {
   "cell_type": "code",
   "execution_count": 20,
   "metadata": {},
   "outputs": [
    {
     "name": "stdout",
     "output_type": "stream",
     "text": [
      "According to the CDC, a healthy adult BMI is between 18.5 and 24.9 for both male and female. \n",
      "The average insurance cost for those within a healthy BMI range is $10379.5, compared to $13845.5 for those outside of a healthy range. That's a difference of $3466.0!\n"
     ]
    }
   ],
   "source": [
    "patient_info.analyze_healthy_bmi()"
   ]
  },
  {
   "cell_type": "code",
   "execution_count": 21,
   "metadata": {},
   "outputs": [
    {
     "name": "stdout",
     "output_type": "stream",
     "text": [
      "On average, smokers pay $23615.96 more for their insurance than non-smokers.\n"
     ]
    }
   ],
   "source": [
    "patient_info.analyze_smoking()"
   ]
  },
  {
   "cell_type": "markdown",
   "metadata": {},
   "source": [
    "Now we have the results of the analyses we chose to do. There are so many more attributes we could explore, and with the modular structure of our code, we can easily do more analysis by adding more methods to our class <code>PatientsInfo</code>."
   ]
  },
  {
   "cell_type": "markdown",
   "metadata": {},
   "source": [
    "To provide another format as an option for further analysis, the last thing we will do is put our lists of data into a dictionary."
   ]
  },
  {
   "cell_type": "code",
   "execution_count": 22,
   "metadata": {},
   "outputs": [],
   "source": [
    "patient_info_dictionary = patient_info.make_dictionary()"
   ]
  }
 ],
 "metadata": {
  "kernelspec": {
   "display_name": "Python 3 (ipykernel)",
   "language": "python",
   "name": "python3"
  },
  "language_info": {
   "codemirror_mode": {
    "name": "ipython",
    "version": 3
   },
   "file_extension": ".py",
   "mimetype": "text/x-python",
   "name": "python",
   "nbconvert_exporter": "python",
   "pygments_lexer": "ipython3",
   "version": "3.9.7"
  }
 },
 "nbformat": 4,
 "nbformat_minor": 4
}
